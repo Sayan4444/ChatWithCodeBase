{
 "cells": [
  {
   "cell_type": "code",
   "execution_count": 1,
   "metadata": {},
   "outputs": [],
   "source": [
    "from git import Repo\n",
    "from langchain_community.document_loaders.generic import GenericLoader\n",
    "from langchain_community.document_loaders.parsers import LanguageParser\n",
    "from langchain_text_splitters import Language,RecursiveCharacterTextSplitter\n",
    "from langchain_community.embeddings import OllamaEmbeddings\n",
    "from langchain_community.vectorstores import Chroma"
   ]
  },
  {
   "cell_type": "code",
   "execution_count": null,
   "metadata": {},
   "outputs": [],
   "source": [
    "repo = Repo.clone_from(\"https://github.com/RocketChat/Rocket.Chat.git\", to_path=\"Rocket.Chat\", branch=\"develop\")"
   ]
  },
  {
   "cell_type": "code",
   "execution_count": 3,
   "metadata": {},
   "outputs": [],
   "source": [
    "loader = GenericLoader.from_filesystem(\n",
    "    \"Rocket.Chat/\",\n",
    "    glob=\"**/*\",\n",
    "    suffixes=[\".ts\",\".tsx\"],\n",
    "    parser=LanguageParser(language=Language.PYTHON, parser_threshold=500),\n",
    ")\n",
    "documents = loader.load()"
   ]
  },
  {
   "cell_type": "code",
   "execution_count": 4,
   "metadata": {},
   "outputs": [
    {
     "data": {
      "text/plain": [
       "Document(page_content=\"import type { Config } from 'jest';\\n\\nconst config: Config = {\\n\\tprojects: [\\n\\t\\t{\\n\\t\\t\\tdisplayName: 'client',\\n\\t\\t\\ttestEnvironment: 'jsdom',\\n\\t\\t\\ttestMatch: [\\n\\t\\t\\t\\t'<rootDir>/client/**/**.spec.[jt]s?(x)',\\n\\t\\t\\t\\t'<rootDir>/tests/unit/client/views/**/*.spec.{ts,tsx}',\\n\\t\\t\\t\\t'<rootDir>/tests/unit/client/providers/**/*.spec.{ts,tsx}',\\n\\t\\t\\t],\\n\\t\\t\\terrorOnDeprecated: true,\\n\\n\\t\\t\\tmodulePathIgnorePatterns: ['<rootDir>/dist/'],\\n\\n\\t\\t\\ttransform: {\\n\\t\\t\\t\\t'^.+\\\\\\\\.(t|j)sx?$': '@swc/jest',\\n\\t\\t\\t},\\n\\n\\t\\t\\tmoduleNameMapper: {\\n\\t\\t\\t\\t'\\\\\\\\.css$': 'identity-obj-proxy',\\n\\t\\t\\t\\t'^react($|/.+)': '<rootDir>/node_modules/react$1',\\n\\t\\t\\t\\t'^@tanstack/(.+)': '<rootDir>/node_modules/@tanstack/$1',\\n\\t\\t\\t},\\n\\t\\t},\\n\\t\\t{\\n\\t\\t\\tdisplayName: 'server',\\n\\t\\t\\ttestEnvironment: 'node',\\n\\t\\t\\ttestMatch: ['<rootDir>/ee/app/authorization/server/validateUserRoles.spec.ts'],\\n\\t\\t\\ttransformIgnorePatterns: ['!/node_modules/jose'],\\n\\t\\t\\terrorOnDeprecated: true,\\n\\n\\t\\t\\tmodulePathIgnorePatterns: ['<rootDir>/dist/'],\\n\\n\\t\\t\\ttransform: {\\n\\t\\t\\t\\t'^.+\\\\\\\\.(t|j)sx?$': '@swc/jest',\\n\\t\\t\\t},\\n\\n\\t\\t\\tmoduleNameMapper: {\\n\\t\\t\\t\\t'\\\\\\\\.css$': 'identity-obj-proxy',\\n\\t\\t\\t\\t'^react($|/.+)': '<rootDir>/node_modules/react$1',\\n\\t\\t\\t\\t'^@tanstack/(.+)': '<rootDir>/node_modules/@tanstack/$1',\\n\\t\\t\\t},\\n\\t\\t},\\n\\t],\\n\\tcollectCoverage: true,\\n};\\n\\nexport default config;\\n\", metadata={'source': 'Rocket.Chat\\\\apps\\\\meteor\\\\jest.config.ts', 'language': <Language.PYTHON: 'python'>})"
      ]
     },
     "execution_count": 4,
     "metadata": {},
     "output_type": "execute_result"
    }
   ],
   "source": [
    "documents[0]"
   ]
  },
  {
   "cell_type": "code",
   "execution_count": 5,
   "metadata": {},
   "outputs": [],
   "source": [
    "python_splitter = RecursiveCharacterTextSplitter.from_language(\n",
    "    language=Language.PYTHON, chunk_size=2000, chunk_overlap=200\n",
    ")\n",
    "chunks = python_splitter.split_documents(documents)"
   ]
  },
  {
   "cell_type": "code",
   "execution_count": 6,
   "metadata": {},
   "outputs": [
    {
     "data": {
      "text/plain": [
       "{'source': 'Rocket.Chat\\\\apps\\\\meteor\\\\jest.config.ts',\n",
       " 'language': <Language.PYTHON: 'python'>}"
      ]
     },
     "execution_count": 6,
     "metadata": {},
     "output_type": "execute_result"
    }
   ],
   "source": [
    "chunks[0].metadata"
   ]
  },
  {
   "cell_type": "code",
   "execution_count": 7,
   "metadata": {},
   "outputs": [],
   "source": [
    "embedding=OllamaEmbeddings(model=\"nomic-embed-text\")"
   ]
  },
  {
   "cell_type": "code",
   "execution_count": null,
   "metadata": {},
   "outputs": [],
   "source": [
    "# vectorDb=Chroma.from_documents(\n",
    "#     documents=chunks,\n",
    "#     embedding=embedding,\n",
    "#     persist_directory=\"./chroma_db\"\n",
    "# )\n",
    "# vectorDb.persist()"
   ]
  },
  {
   "cell_type": "code",
   "execution_count": 13,
   "metadata": {},
   "outputs": [],
   "source": [
    "vectorDb=Chroma.from_documents(\n",
    "    documents=[chunks[0]],\n",
    "    embedding=embedding,\n",
    "    persist_directory=\"./chroma_db\"\n",
    ")\n",
    "vectorDb.persist()"
   ]
  },
  {
   "cell_type": "code",
   "execution_count": null,
   "metadata": {},
   "outputs": [],
   "source": [
    "for i, chunk in enumerate(chunks):\n",
    "    vectorDb.add_documents(documents=[chunk])"
   ]
  }
 ],
 "metadata": {
  "kernelspec": {
   "display_name": ".venv",
   "language": "python",
   "name": "python3"
  },
  "language_info": {
   "codemirror_mode": {
    "name": "ipython",
    "version": 3
   },
   "file_extension": ".py",
   "mimetype": "text/x-python",
   "name": "python",
   "nbconvert_exporter": "python",
   "pygments_lexer": "ipython3",
   "version": "3.11.5"
  }
 },
 "nbformat": 4,
 "nbformat_minor": 2
}
